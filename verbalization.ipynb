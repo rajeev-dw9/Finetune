{
 "cells": [
  {
   "cell_type": "code",
   "execution_count": 2,
   "metadata": {},
   "outputs": [],
   "source": [
    "import numpy as np\n",
    "import pandas as pd"
   ]
  },
  {
   "cell_type": "code",
   "execution_count": 3,
   "metadata": {},
   "outputs": [],
   "source": [
    "kg_giant = pd.read_csv(\"/home/ubuntu/Project_Files/Finetune/Data/kg_giant.csv\", low_memory=False)"
   ]
  },
  {
   "cell_type": "code",
   "execution_count": 4,
   "metadata": {},
   "outputs": [
    {
     "data": {
      "text/html": [
       "<div>\n",
       "<style scoped>\n",
       "    .dataframe tbody tr th:only-of-type {\n",
       "        vertical-align: middle;\n",
       "    }\n",
       "\n",
       "    .dataframe tbody tr th {\n",
       "        vertical-align: top;\n",
       "    }\n",
       "\n",
       "    .dataframe thead th {\n",
       "        text-align: right;\n",
       "    }\n",
       "</style>\n",
       "<table border=\"1\" class=\"dataframe\">\n",
       "  <thead>\n",
       "    <tr style=\"text-align: right;\">\n",
       "      <th></th>\n",
       "      <th>relation</th>\n",
       "      <th>display_relation</th>\n",
       "      <th>x_id</th>\n",
       "      <th>x_type</th>\n",
       "      <th>x_name</th>\n",
       "      <th>x_source</th>\n",
       "      <th>y_id</th>\n",
       "      <th>y_type</th>\n",
       "      <th>y_name</th>\n",
       "      <th>y_source</th>\n",
       "    </tr>\n",
       "  </thead>\n",
       "  <tbody>\n",
       "    <tr>\n",
       "      <th>0</th>\n",
       "      <td>protein_protein</td>\n",
       "      <td>ppi</td>\n",
       "      <td>9796</td>\n",
       "      <td>gene/protein</td>\n",
       "      <td>PHYHIP</td>\n",
       "      <td>NCBI</td>\n",
       "      <td>56992</td>\n",
       "      <td>gene/protein</td>\n",
       "      <td>KIF15</td>\n",
       "      <td>NCBI</td>\n",
       "    </tr>\n",
       "    <tr>\n",
       "      <th>1</th>\n",
       "      <td>protein_protein</td>\n",
       "      <td>ppi</td>\n",
       "      <td>7918</td>\n",
       "      <td>gene/protein</td>\n",
       "      <td>GPANK1</td>\n",
       "      <td>NCBI</td>\n",
       "      <td>9240</td>\n",
       "      <td>gene/protein</td>\n",
       "      <td>PNMA1</td>\n",
       "      <td>NCBI</td>\n",
       "    </tr>\n",
       "    <tr>\n",
       "      <th>2</th>\n",
       "      <td>protein_protein</td>\n",
       "      <td>ppi</td>\n",
       "      <td>8233</td>\n",
       "      <td>gene/protein</td>\n",
       "      <td>ZRSR2</td>\n",
       "      <td>NCBI</td>\n",
       "      <td>23548</td>\n",
       "      <td>gene/protein</td>\n",
       "      <td>TTC33</td>\n",
       "      <td>NCBI</td>\n",
       "    </tr>\n",
       "    <tr>\n",
       "      <th>3</th>\n",
       "      <td>protein_protein</td>\n",
       "      <td>ppi</td>\n",
       "      <td>4899</td>\n",
       "      <td>gene/protein</td>\n",
       "      <td>NRF1</td>\n",
       "      <td>NCBI</td>\n",
       "      <td>11253</td>\n",
       "      <td>gene/protein</td>\n",
       "      <td>MAN1B1</td>\n",
       "      <td>NCBI</td>\n",
       "    </tr>\n",
       "    <tr>\n",
       "      <th>4</th>\n",
       "      <td>protein_protein</td>\n",
       "      <td>ppi</td>\n",
       "      <td>5297</td>\n",
       "      <td>gene/protein</td>\n",
       "      <td>PI4KA</td>\n",
       "      <td>NCBI</td>\n",
       "      <td>8601</td>\n",
       "      <td>gene/protein</td>\n",
       "      <td>RGS20</td>\n",
       "      <td>NCBI</td>\n",
       "    </tr>\n",
       "  </tbody>\n",
       "</table>\n",
       "</div>"
      ],
      "text/plain": [
       "          relation display_relation  x_id        x_type  x_name x_source  \\\n",
       "0  protein_protein              ppi  9796  gene/protein  PHYHIP     NCBI   \n",
       "1  protein_protein              ppi  7918  gene/protein  GPANK1     NCBI   \n",
       "2  protein_protein              ppi  8233  gene/protein   ZRSR2     NCBI   \n",
       "3  protein_protein              ppi  4899  gene/protein    NRF1     NCBI   \n",
       "4  protein_protein              ppi  5297  gene/protein   PI4KA     NCBI   \n",
       "\n",
       "    y_id        y_type  y_name y_source  \n",
       "0  56992  gene/protein   KIF15     NCBI  \n",
       "1   9240  gene/protein   PNMA1     NCBI  \n",
       "2  23548  gene/protein   TTC33     NCBI  \n",
       "3  11253  gene/protein  MAN1B1     NCBI  \n",
       "4   8601  gene/protein   RGS20     NCBI  "
      ]
     },
     "execution_count": 4,
     "metadata": {},
     "output_type": "execute_result"
    }
   ],
   "source": [
    "kg_giant.head()"
   ]
  },
  {
   "cell_type": "code",
   "execution_count": 5,
   "metadata": {},
   "outputs": [
    {
     "data": {
      "text/plain": [
       "(8196862, 10)"
      ]
     },
     "execution_count": 5,
     "metadata": {},
     "output_type": "execute_result"
    }
   ],
   "source": [
    "kg_giant.shape"
   ]
  },
  {
   "cell_type": "code",
   "execution_count": 6,
   "metadata": {},
   "outputs": [
    {
     "name": "stdout",
     "output_type": "stream",
     "text": [
      "----|||| Unique relations are: ['protein_protein' 'drug_protein' 'contraindication' 'indication'\n",
      " 'off-label use' 'drug_drug' 'phenotype_protein' 'phenotype_phenotype'\n",
      " 'disease_phenotype_negative' 'disease_phenotype_positive'\n",
      " 'disease_protein' 'disease_disease' 'drug_effect' 'bioprocess_bioprocess'\n",
      " 'molfunc_molfunc' 'cellcomp_cellcomp' 'molfunc_protein'\n",
      " 'cellcomp_protein' 'bioprocess_protein' 'exposure_protein'\n",
      " 'exposure_disease' 'exposure_exposure' 'exposure_bioprocess'\n",
      " 'exposure_molfunc' 'exposure_cellcomp' 'pathway_pathway'\n",
      " 'pathway_protein' 'anatomy_anatomy' 'anatomy_protein_present'\n",
      " 'anatomy_protein_absent']\n",
      "----|||| Unique display relations are: ['ppi' 'carrier' 'enzyme' 'target' 'transporter' 'contraindication'\n",
      " 'indication' 'off-label use' 'synergistic interaction' 'associated with'\n",
      " 'parent-child' 'phenotype absent' 'phenotype present' 'side effect'\n",
      " 'interacts with' 'linked to' 'expression present' 'expression absent']\n",
      "----|||| Unique x_type values are: ['gene/protein' 'drug' 'effect/phenotype' 'disease' 'biological_process'\n",
      " 'molecular_function' 'cellular_component' 'exposure' 'pathway' 'anatomy']\n",
      "----|||| Unique y_type values are: ['gene/protein' 'disease' 'drug' 'effect/phenotype' 'biological_process'\n",
      " 'molecular_function' 'cellular_component' 'exposure' 'pathway' 'anatomy']\n",
      "----|||| Unique x_name values are: ['PHYHIP' 'GPANK1' 'ZRSR2' ... 'anatomical entity'\n",
      " 'multi-cellular organism' 'female gonad']\n",
      "----|||| Unique y_name values are: ['KIF15' 'PNMA1' 'TTC33' ... 'LINC00563' 'RYKP1' 'PRSS3P3']\n"
     ]
    }
   ],
   "source": [
    "# All unique relations, display_relations, x_type, y_type, x_name and y_name\n",
    "print(\"----|||| Unique relations are:\", kg_giant['relation'].unique())\n",
    "print(\"----|||| Unique display relations are:\", kg_giant['display_relation'].unique())\n",
    "print(\"----|||| Unique x_type values are:\", kg_giant['x_type'].unique())\n",
    "print(\"----|||| Unique y_type values are:\", kg_giant['y_type'].unique())\n",
    "print(\"----|||| Unique x_name values are:\", kg_giant['x_name'].unique())\n",
    "print(\"----|||| Unique y_name values are:\", kg_giant['y_name'].unique())"
   ]
  },
  {
   "cell_type": "code",
   "execution_count": 7,
   "metadata": {},
   "outputs": [
    {
     "data": {
      "text/plain": [
       "relation                30\n",
       "display_relation        18\n",
       "x_id                 90354\n",
       "x_type                  10\n",
       "x_name              134381\n",
       "x_source                 8\n",
       "y_id                 90354\n",
       "y_type                  10\n",
       "y_name              134381\n",
       "y_source                 8\n",
       "dtype: int64"
      ]
     },
     "execution_count": 7,
     "metadata": {},
     "output_type": "execute_result"
    }
   ],
   "source": [
    "kg_giant.nunique()"
   ]
  },
  {
   "cell_type": "code",
   "execution_count": 8,
   "metadata": {},
   "outputs": [],
   "source": [
    "def generate_well_formed_sentences_from_df(df):\n",
    "    sentences = []\n",
    "    for _, row in df.iterrows():\n",
    "        relation, display_relation, x_type, x_name, y_type, y_name = row['relation'], row['display_relation'], row['x_type'], row['x_name'], row['y_type'], row['y_name']\n",
    "\n",
    "        # Constructing sentences based on the relation type and information\n",
    "        if relation in [\"anatomy_protein_present\", \"anatomy_anatomy\", \"protein_protein\", \n",
    "                        \"molfunc_protein\", \"disease_protein\", \"bioprocess_protein\", \n",
    "                        \"cellcomp_protein\", \"anatomy_protein_absent\", \"drug_protein\",\n",
    "                        \"pathway_protein\", \"phenotype_protein\", \"exposure_protein\"]:\n",
    "            sentence = f\"In the {x_name}, which is a type of {x_type}, there is a noted {display_relation} of the {y_type} {y_name}.\"\n",
    "\n",
    "        elif relation in [\"drug_drug\", \"exposure_disease\", \"disease_disease\", \"disease_phenotype_positive\",\n",
    "                          \"drug_effect\", \"contraindication\", \"indication\", \"off-label use\",\n",
    "                          \"disease_phenotype_negative\", \"exposure_exposure\"]:\n",
    "            sentence = f\"The {x_type} {x_name} and the {y_type} {y_name} have a {display_relation}.\"\n",
    "\n",
    "        elif relation in [\"bioprocess_bioprocess\", \"molfunc_molfunc\", \"phenotype_phenotype\",\n",
    "                          \"cellcomp_cellcomp\", \"pathway_pathway\", \"exposure_bioprocess\",\n",
    "                          \"exposure_cellcomp\", \"exposure_molfunc\"]:\n",
    "            sentence = f\"The {x_type} {x_name} is related to the {y_type} {y_name} in terms of {display_relation}.\"\n",
    "\n",
    "        sentences.append(sentence)\n",
    "    return sentences\n",
    "\n",
    "# Generating well-formed sentences from the dataframe\n",
    "well_formed_sentences = generate_well_formed_sentences_from_df(kg_giant)\n",
    "\n",
    "# Creating a new DataFrame with the sentences\n",
    "sentences_df = pd.DataFrame(well_formed_sentences, columns=[\"Sentence\"])\n",
    "\n",
    "# Displaying the first few sentences to verify\n",
    "sentences_df.head()\n",
    "\n",
    "# Saving the sentences to a csv file\n",
    "sentences_df.to_csv('/home/ubuntu/Project_Files/Finetune/Data/sentences.csv', index=False)\n"
   ]
  },
  {
   "cell_type": "code",
   "execution_count": 9,
   "metadata": {},
   "outputs": [],
   "source": [
    "df = sentences_df"
   ]
  },
  {
   "cell_type": "code",
   "execution_count": 10,
   "metadata": {},
   "outputs": [
    {
     "data": {
      "text/html": [
       "<div>\n",
       "<style scoped>\n",
       "    .dataframe tbody tr th:only-of-type {\n",
       "        vertical-align: middle;\n",
       "    }\n",
       "\n",
       "    .dataframe tbody tr th {\n",
       "        vertical-align: top;\n",
       "    }\n",
       "\n",
       "    .dataframe thead th {\n",
       "        text-align: right;\n",
       "    }\n",
       "</style>\n",
       "<table border=\"1\" class=\"dataframe\">\n",
       "  <thead>\n",
       "    <tr style=\"text-align: right;\">\n",
       "      <th></th>\n",
       "      <th>Sentence</th>\n",
       "    </tr>\n",
       "  </thead>\n",
       "  <tbody>\n",
       "    <tr>\n",
       "      <th>0</th>\n",
       "      <td>In the PHYHIP, which is a type of gene/protein...</td>\n",
       "    </tr>\n",
       "    <tr>\n",
       "      <th>1</th>\n",
       "      <td>In the GPANK1, which is a type of gene/protein...</td>\n",
       "    </tr>\n",
       "    <tr>\n",
       "      <th>2</th>\n",
       "      <td>In the ZRSR2, which is a type of gene/protein,...</td>\n",
       "    </tr>\n",
       "    <tr>\n",
       "      <th>3</th>\n",
       "      <td>In the NRF1, which is a type of gene/protein, ...</td>\n",
       "    </tr>\n",
       "    <tr>\n",
       "      <th>4</th>\n",
       "      <td>In the PI4KA, which is a type of gene/protein,...</td>\n",
       "    </tr>\n",
       "  </tbody>\n",
       "</table>\n",
       "</div>"
      ],
      "text/plain": [
       "                                            Sentence\n",
       "0  In the PHYHIP, which is a type of gene/protein...\n",
       "1  In the GPANK1, which is a type of gene/protein...\n",
       "2  In the ZRSR2, which is a type of gene/protein,...\n",
       "3  In the NRF1, which is a type of gene/protein, ...\n",
       "4  In the PI4KA, which is a type of gene/protein,..."
      ]
     },
     "execution_count": 10,
     "metadata": {},
     "output_type": "execute_result"
    }
   ],
   "source": [
    "df.head()"
   ]
  },
  {
   "cell_type": "code",
   "execution_count": 11,
   "metadata": {},
   "outputs": [
    {
     "name": "stderr",
     "output_type": "stream",
     "text": [
      "/home/ubuntu/Project_Files/env_llm/lib/python3.10/site-packages/tqdm/auto.py:21: TqdmWarning: IProgress not found. Please update jupyter and ipywidgets. See https://ipywidgets.readthedocs.io/en/stable/user_install.html\n",
      "  from .autonotebook import tqdm as notebook_tqdm\n",
      "tokenizer_config.json: 100%|██████████| 1.46k/1.46k [00:00<00:00, 9.37MB/s]\n",
      "vocab.json: 100%|██████████| 1.89M/1.89M [00:00<00:00, 33.8MB/s]\n",
      "merges.txt: 100%|██████████| 1.20M/1.20M [00:00<00:00, 39.8MB/s]\n",
      "special_tokens_map.json: 100%|██████████| 606/606 [00:00<00:00, 5.35MB/s]\n",
      "config.json: 100%|██████████| 738/738 [00:00<00:00, 5.84MB/s]\n",
      "pytorch_model.bin: 100%|██████████| 3.45G/3.45G [00:53<00:00, 64.7MB/s]\n",
      "/home/ubuntu/Project_Files/env_llm/lib/python3.10/site-packages/torch/_utils.py:831: UserWarning: TypedStorage is deprecated. It will be removed in the future and UntypedStorage will be the only storage class. This should only matter to you if you are using storages directly.  To access UntypedStorage directly, use tensor.untyped_storage() instead of tensor.storage()\n",
      "  return self.fget.__get__(instance, owner)()\n"
     ]
    }
   ],
   "source": [
    "import torch\n",
    "import pandas as pd\n",
    "import transformers\n",
    "from transformers import GPT2LMHeadModel, GPT2Tokenizer\n",
    "\n",
    "# Load the model and tokenizer\n",
    "model_name = \"sberbank-ai/mGPT\"\n",
    "# model_name = \"meta-llama/Llama-2-7b\"\n",
    "# model_name = \"moreh/MoMo-72B-lora-1.8.7-DPO\" ## ChatModel\n",
    "# model_name = \"cloudyu/Mixtral_34Bx2_MoE_60B\" ## Pretrained\n",
    "\n",
    "\n",
    "\n",
    "\n",
    "tokenizer = GPT2Tokenizer.from_pretrained(model_name)\n",
    "model = GPT2LMHeadModel.from_pretrained(model_name)\n",
    "model.cuda()\n",
    "model.eval()\n",
    "\n",
    "# Set the seed for reproducibility\n",
    "transformers.set_seed(11)\n",
    "\n",
    "# Example of correct sentence structure\n",
    "example_incorrect = \"In the UBC, which is a type of gene/protein, there is a noted ppi of the gene/protein DCAF1\"\n",
    "example_correct = \"In the UBC, a type of gene/protein, there is a noted protein-protein interaction (ppi) with the gene/protein DCAF1.\""
   ]
  },
  {
   "cell_type": "code",
   "execution_count": 12,
   "metadata": {},
   "outputs": [],
   "source": [
    "corrected_sentences = []\n",
    "for index, row in df.iterrows():\n",
    "    sentence_to_correct = row['Sentence'] \n",
    "    prompt = f\"Incorrect: {example_incorrect} Correct: {example_correct} Incorrect: {sentence_to_correct} Correct:\"\n",
    "    input_ids = tokenizer.encode(prompt, return_tensors=\"pt\").cuda()\n",
    "    out = model.generate(\n",
    "        input_ids,\n",
    "        max_length=200,\n",
    "        eos_token_id=tokenizer.eos_token_id,\n",
    "        do_sample=True,\n",
    "        top_k=50,\n",
    "        top_p=0.95,\n",
    "        no_repeat_ngram_size=2\n",
    "    )\n",
    "    generated_text = tokenizer.decode(out[0], skip_special_tokens=True)\n",
    "    corrected_sentences.append(generated_text)\n"
   ]
  },
  {
   "cell_type": "code",
   "execution_count": null,
   "metadata": {},
   "outputs": [],
   "source": [
    "\n",
    "corrected_df = pd.DataFrame(corrected_sentences, columns=['Corrected Sentence'])\n",
    "corrected_df.to_csv(\"corrected_sentences.csv\", index=False)\n"
   ]
  },
  {
   "cell_type": "code",
   "execution_count": null,
   "metadata": {},
   "outputs": [],
   "source": []
  }
 ],
 "metadata": {
  "kernelspec": {
   "display_name": "env_llm",
   "language": "python",
   "name": "python3"
  },
  "language_info": {
   "codemirror_mode": {
    "name": "ipython",
    "version": 3
   },
   "file_extension": ".py",
   "mimetype": "text/x-python",
   "name": "python",
   "nbconvert_exporter": "python",
   "pygments_lexer": "ipython3",
   "version": "3.10.12"
  }
 },
 "nbformat": 4,
 "nbformat_minor": 2
}
