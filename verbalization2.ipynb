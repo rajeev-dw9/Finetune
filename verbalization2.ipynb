{
 "cells": [
  {
   "cell_type": "code",
   "execution_count": null,
   "metadata": {},
   "outputs": [],
   "source": [
    "import torch\n",
    "import pandas as pd\n",
    "import numpy as np\n",
    "from transformers import GPT2LMHeadModel, GPT2Tokenizer\n",
    "import multiprocessing\n",
    "from itertools import repeat\n",
    "from tqdm import tqdm\n"
   ]
  },
  {
   "cell_type": "code",
   "execution_count": null,
   "metadata": {},
   "outputs": [],
   "source": [
    "def process_data(df_chunk, gpu_id, corrected_sentences, model_name, example_incorrect, example_correct):\n",
    "    # Set the current device to the specific GPU\n",
    "    torch.cuda.set_device(gpu_id)\n",
    "\n",
    "    tokenizer = GPT2Tokenizer.from_pretrained(model_name)\n",
    "    model = GPT2LMHeadModel.from_pretrained(model_name)\n",
    "    model.to(f'cuda:{gpu_id}')\n",
    "    model.eval()\n",
    "\n",
    "    for _, row in tqdm(df_chunk.iterrows(), total=df_chunk.shape[0], desc=f'GPU {gpu_id}'):\n",
    "        sentence_to_correct = row['Sentence']\n",
    "        prompt = f\"Incorrect: {example_incorrect} Correct: {example_correct} Incorrect: {sentence_to_correct} Correct:\"\n",
    "        input_ids = tokenizer.encode(prompt, return_tensors=\"pt\").to(f'cuda:{gpu_id}')\n",
    "        out = model.generate(\n",
    "            input_ids,\n",
    "            max_length=200,\n",
    "            eos_token_id=tokenizer.eos_token_id,\n",
    "            do_sample=True,\n",
    "            top_k=50,\n",
    "            top_p=0.95,\n",
    "            no_repeat_ngram_size=2\n",
    "        )\n",
    "        generated_text = tokenizer.decode(out[0], skip_special_tokens=True)\n",
    "        print(generated_text)\n",
    "        corrected_sentences.append(generated_text)"
   ]
  },
  {
   "cell_type": "code",
   "execution_count": null,
   "metadata": {},
   "outputs": [],
   "source": [
    "def main():\n",
    "    model_name = \"sberbank-ai/mGPT\"\n",
    "    example_incorrect = \"In the UBC, which is a type of gene/protein, there is a noted ppi of the gene/protein DCAF1\"\n",
    "    example_correct = \"In the UBC, a type of gene/protein, there is a noted protein-protein interaction (ppi) with the gene/protein DCAF1.\"\n",
    "\n",
    "    df = pd.read_csv(\"/home/ubuntu/Project_Files/Finetune/Data/sentences.csv\", low_memory=False)\n",
    "\n",
    "    num_gpus = 4\n",
    "    chunk_size = len(df) // num_gpus\n",
    "    df_chunks = [df.iloc[i:i + chunk_size] for i in range(0, len(df), chunk_size)]\n",
    "\n",
    "    manager = multiprocessing.Manager()\n",
    "    corrected_sentences = manager.list()\n",
    "\n",
    "    processes = []\n",
    "    for i in range(num_gpus):\n",
    "        p = multiprocessing.Process(target=process_data, args=(df_chunks[i], i, corrected_sentences, model_name, example_incorrect, example_correct))\n",
    "        p.start()\n",
    "        processes.append(p)\n",
    "\n",
    "    for p in processes:\n",
    "        p.join()\n",
    "\n",
    "    corrected_sentences = list(corrected_sentences)\n",
    "\n",
    "    corrected_df = pd.DataFrame(corrected_sentences, columns=['Corrected Sentence'])\n",
    "    corrected_df.to_csv(\"corrected_sentences.csv\", index=False)\n",
    "\n",
    "if __name__ == '__main__':\n",
    "    main()\n"
   ]
  },
  {
   "cell_type": "code",
   "execution_count": null,
   "metadata": {},
   "outputs": [],
   "source": []
  },
  {
   "cell_type": "code",
   "execution_count": null,
   "metadata": {},
   "outputs": [],
   "source": []
  }
 ],
 "metadata": {
  "kernelspec": {
   "display_name": "env_llm",
   "language": "python",
   "name": "python3"
  },
  "language_info": {
   "codemirror_mode": {
    "name": "ipython",
    "version": 3
   },
   "file_extension": ".py",
   "mimetype": "text/x-python",
   "name": "python",
   "nbconvert_exporter": "python",
   "pygments_lexer": "ipython3",
   "version": "3.10.12"
  }
 },
 "nbformat": 4,
 "nbformat_minor": 2
}
