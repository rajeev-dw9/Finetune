{
 "cells": [
  {
   "cell_type": "code",
   "execution_count": null,
   "metadata": {},
   "outputs": [],
   "source": [
    "# from transformers import AutoModelForMaskedLM, AutoTokenizer\n",
    "# import torch"
   ]
  },
  {
   "cell_type": "code",
   "execution_count": null,
   "metadata": {},
   "outputs": [],
   "source": [
    "# from transformers import GPT2Config\n",
    "# model_name = \"sberbank-ai/mGPT\"\n",
    "# model_config = GPT2Config.from_pretrained(model_name)\n",
    "# model = AutoModelForMaskedLM.from_pretrained(model_name, config=model_config)\n",
    "# tokenizer = AutoTokenizer.from_pretrained(model_name)\n",
    "\n",
    "# dataset = [\"Your\", \"unlabeled\", \"text\", \"data\", \"...\"]\n",
    "# inputs = tokenizer(dataset, padding=True, truncation=True, return_tensors=\"pt\")\n",
    "# labels = inputs.input_ids.detach().clone()\n",
    "\n",
    "# optimizer = torch.optim.AdamW(model.parameters(), lr=5e-5)\n",
    "# num_epochs = 3\n",
    "# batch_size = 8\n",
    "# num_batches = len(dataset) // batch_size\n",
    "# dataloader = torch.utils.data.DataLoader(\n",
    "#     list(zip(inputs.input_ids, labels)), batch_size=batch_size, shuffle=True\n",
    "# )\n",
    "# model.train()\n",
    "# for epoch in range(num_epochs):\n",
    "#     for batch in dataloader:\n",
    "#         outputs = model(**batch)\n",
    "#         loss = outputs.loss\n",
    "#         loss.backward()\n",
    "#         optimizer.step()\n",
    "#         optimizer.zero_grad()\n",
    "\n",
    "# # Save your model\n",
    "# # model.save_pretrained(\"./your_model_directory\")\n"
   ]
  },
  {
   "cell_type": "code",
   "execution_count": null,
   "metadata": {},
   "outputs": [],
   "source": [
    "# import numpy as np\n",
    "# import pandas as pd\n",
    "\n",
    "# df = pd.read_csv(\"/home/ubuntu/Project_Files/Finetune/Data/sentences.csv\")\n",
    "# # select fist 500 rows\n",
    "# df = df.iloc[:5000]\n",
    "# # save to csv\n",
    "# df.to_csv(\"/home/ubuntu/Project_Files/Finetune/Data/sentences_5000.csv\", index=False)"
   ]
  },
  {
   "cell_type": "code",
   "execution_count": 1,
   "metadata": {},
   "outputs": [
    {
     "name": "stderr",
     "output_type": "stream",
     "text": [
      "/home/ubuntu/Project_Files/env_llm/lib/python3.10/site-packages/tqdm/auto.py:21: TqdmWarning: IProgress not found. Please update jupyter and ipywidgets. See https://ipywidgets.readthedocs.io/en/stable/user_install.html\n",
      "  from .autonotebook import tqdm as notebook_tqdm\n",
      "Some weights of the model checkpoint at bert-base-uncased were not used when initializing BertForMaskedLM: ['bert.pooler.dense.bias', 'bert.pooler.dense.weight', 'cls.seq_relationship.bias', 'cls.seq_relationship.weight']\n",
      "- This IS expected if you are initializing BertForMaskedLM from the checkpoint of a model trained on another task or with another architecture (e.g. initializing a BertForSequenceClassification model from a BertForPreTraining model).\n",
      "- This IS NOT expected if you are initializing BertForMaskedLM from the checkpoint of a model that you expect to be exactly identical (initializing a BertForSequenceClassification model from a BertForSequenceClassification model).\n"
     ]
    },
    {
     "name": "stdout",
     "output_type": "stream",
     "text": [
      "BertForMaskedLM(\n",
      "  (bert): BertModel(\n",
      "    (embeddings): BertEmbeddings(\n",
      "      (word_embeddings): Embedding(30522, 768, padding_idx=0)\n",
      "      (position_embeddings): Embedding(512, 768)\n",
      "      (token_type_embeddings): Embedding(2, 768)\n",
      "      (LayerNorm): LayerNorm((768,), eps=1e-12, elementwise_affine=True)\n",
      "      (dropout): Dropout(p=0.1, inplace=False)\n",
      "    )\n",
      "    (encoder): BertEncoder(\n",
      "      (layer): ModuleList(\n",
      "        (0-11): 12 x BertLayer(\n",
      "          (attention): BertAttention(\n",
      "            (self): BertSelfAttention(\n",
      "              (query): Linear(in_features=768, out_features=768, bias=True)\n",
      "              (key): Linear(in_features=768, out_features=768, bias=True)\n",
      "              (value): Linear(in_features=768, out_features=768, bias=True)\n",
      "              (dropout): Dropout(p=0.1, inplace=False)\n",
      "            )\n",
      "            (output): BertSelfOutput(\n",
      "              (dense): Linear(in_features=768, out_features=768, bias=True)\n",
      "              (LayerNorm): LayerNorm((768,), eps=1e-12, elementwise_affine=True)\n",
      "              (dropout): Dropout(p=0.1, inplace=False)\n",
      "            )\n",
      "          )\n",
      "          (intermediate): BertIntermediate(\n",
      "            (dense): Linear(in_features=768, out_features=3072, bias=True)\n",
      "            (intermediate_act_fn): GELUActivation()\n",
      "          )\n",
      "          (output): BertOutput(\n",
      "            (dense): Linear(in_features=3072, out_features=768, bias=True)\n",
      "            (LayerNorm): LayerNorm((768,), eps=1e-12, elementwise_affine=True)\n",
      "            (dropout): Dropout(p=0.1, inplace=False)\n",
      "          )\n",
      "        )\n",
      "      )\n",
      "    )\n",
      "  )\n",
      "  (cls): BertOnlyMLMHead(\n",
      "    (predictions): BertLMPredictionHead(\n",
      "      (transform): BertPredictionHeadTransform(\n",
      "        (dense): Linear(in_features=768, out_features=768, bias=True)\n",
      "        (transform_act_fn): GELUActivation()\n",
      "        (LayerNorm): LayerNorm((768,), eps=1e-12, elementwise_affine=True)\n",
      "      )\n",
      "      (decoder): Linear(in_features=768, out_features=30522, bias=True)\n",
      "    )\n",
      "  )\n",
      ")\n",
      "Data loaded\n",
      "Starting training\n"
     ]
    },
    {
     "name": "stderr",
     "output_type": "stream",
     "text": [
      "  0%|          | 0/157 [00:00<?, ?it/s]/home/ubuntu/Project_Files/env_llm/lib/python3.10/site-packages/torch/nn/parallel/_functions.py:68: UserWarning: Was asked to gather along dimension 0, but all input tensors were scalars; will instead unsqueeze and return a vector.\n",
      "  warnings.warn('Was asked to gather along dimension 0, but all '\n",
      "Epoch 1/3:  64%|██████▎   | 100/157 [01:05<00:35,  1.59it/s, loss=0.988]"
     ]
    },
    {
     "name": "stdout",
     "output_type": "stream",
     "text": [
      "Epoch [1/3], Step [100/157], Loss: 0.9881\n"
     ]
    },
    {
     "name": "stderr",
     "output_type": "stream",
     "text": [
      "Epoch 1/3: 100%|██████████| 157/157 [01:41<00:00,  1.55it/s, loss=0.635]\n",
      "Epoch 2/3:  64%|██████▎   | 100/157 [01:03<00:35,  1.60it/s, loss=0.00818]"
     ]
    },
    {
     "name": "stdout",
     "output_type": "stream",
     "text": [
      "Epoch [2/3], Step [100/157], Loss: 0.0082\n"
     ]
    },
    {
     "name": "stderr",
     "output_type": "stream",
     "text": [
      "Epoch 2/3: 100%|██████████| 157/157 [01:38<00:00,  1.59it/s, loss=0.00706]\n",
      "Epoch 3/3:  64%|██████▎   | 100/157 [01:03<00:36,  1.58it/s, loss=0.00356]"
     ]
    },
    {
     "name": "stdout",
     "output_type": "stream",
     "text": [
      "Epoch [3/3], Step [100/157], Loss: 0.0036\n"
     ]
    },
    {
     "name": "stderr",
     "output_type": "stream",
     "text": [
      "Epoch 3/3: 100%|██████████| 157/157 [01:38<00:00,  1.59it/s, loss=0.00322]\n"
     ]
    }
   ],
   "source": [
    "import pandas as pd\n",
    "import torch\n",
    "from torch.utils.data import Dataset, DataLoader\n",
    "from transformers import AutoModelForMaskedLM, AutoTokenizer\n",
    "from torch.nn import DataParallel\n",
    "from tqdm.auto import tqdm\n",
    "\n",
    "\n",
    "class CSVDataset(Dataset):\n",
    "    def __init__(self, filename, tokenizer, max_length=512):\n",
    "        self.tokenizer = tokenizer\n",
    "        self.data = pd.read_csv(filename)\n",
    "        self.texts = self.data['Sentence'].tolist()  # Ensure the column name matches your CSV\n",
    "        self.max_length = max_length\n",
    "\n",
    "    def __len__(self):\n",
    "        return len(self.texts)\n",
    "\n",
    "    def __getitem__(self, idx):\n",
    "        text = self.texts[idx]\n",
    "        inputs = self.tokenizer(text, max_length=self.max_length, padding='max_length', truncation=True, return_tensors=\"pt\")\n",
    "        return {'input_ids': inputs['input_ids'][0], 'attention_mask': inputs['attention_mask'][0]}  \n",
    "def collate_fn(batch):\n",
    "    input_ids = torch.stack([item['input_ids'] for item in batch])\n",
    "    attention_mask = torch.stack([item['attention_mask'] for item in batch])\n",
    "    return {'input_ids': input_ids, 'attention_mask': attention_mask} \n",
    "\n",
    "model_name = \"bert-base-uncased\"\n",
    "tokenizer = AutoTokenizer.from_pretrained(model_name)\n",
    "model = AutoModelForMaskedLM.from_pretrained(model_name)\n",
    "print(model)\n",
    "\n",
    "# dataset = CSVDataset(\"/home/ubuntu/Project_Files/Finetune/Data/sentences.csv\", tokenizer) # full\n",
    "dataset = CSVDataset(\"/home/ubuntu/Project_Files/Finetune/Data/sentences_5000.csv\", tokenizer) # only 500\n",
    "dataloader = DataLoader(dataset, batch_size=32, shuffle=True, collate_fn=collate_fn)\n",
    "print(\"Data loaded\")\n",
    "\n",
    "# Utilize multiple GPUs\n",
    "if torch.cuda.is_available():\n",
    "    device = torch.device(\"cuda\")\n",
    "    model = DataParallel(model)\n",
    "    model.to(device)\n",
    "else:\n",
    "    device = torch.device(\"cpu\")\n",
    "\n",
    "dataloader = list(dataloader)  \n",
    "optimizer = torch.optim.AdamW(model.parameters(), lr=5e-5)\n",
    "model.train()\n",
    "num_epochs = 3\n",
    "print_every_n_batches = 100  \n",
    "print(\"Starting training\")\n",
    "\n",
    "\n",
    "for epoch in range(num_epochs):\n",
    "    loop = tqdm(dataloader, leave=True)\n",
    "    total_loss = 0.0\n",
    "    num_batches = len(dataloader)\n",
    "    \n",
    "    for i, batch in enumerate(loop):\n",
    "        batch = {k: v.to(device) for k, v in batch.items()}  # Move the entire batch to the device\n",
    "        labels = batch['input_ids'].clone()  # Clone input_ids to use as labels\n",
    "        outputs = model(input_ids=batch['input_ids'], attention_mask=batch['attention_mask'], labels=labels)\n",
    "        loss = outputs.loss\n",
    "        \n",
    "        # Compute the mean loss for the entire batch and accumulate\n",
    "        total_loss += loss.mean().item()\n",
    "        \n",
    "        loss.mean().backward()  # Compute the mean loss gradient\n",
    "        optimizer.step()\n",
    "        optimizer.zero_grad()\n",
    "        loop.set_description(f'Epoch {epoch+1}/{num_epochs}')\n",
    "        loop.set_postfix(loss=total_loss / (i + 1))  # Compute and display the average loss\n",
    "        \n",
    "        if (i + 1) % print_every_n_batches == 0:\n",
    "            print(f\"Epoch [{epoch+1}/{num_epochs}], Step [{i+1}/{num_batches}], Loss: {total_loss / (i + 1):.4f}\")\n",
    "\n",
    "\n",
    "model.module.save_pretrained(\"/home/ubuntu/Project_Files/Finetune/Data/trained_model.pth\")  \n"
   ]
  },
  {
   "cell_type": "code",
   "execution_count": null,
   "metadata": {},
   "outputs": [],
   "source": [
    "\n",
    "# for epoch in range(num_epochs):\n",
    "#     loop = tqdm(dataloader, leave=True)\n",
    "#     for i, batch in enumerate(loop):\n",
    "#         inputs = {k: v.to(device) for k, v in batch.items()}\n",
    "#         outputs = model(**inputs)\n",
    "#         # print(outputs)\n",
    "#         loss = outputs.loss\n",
    "#         print(loss)\n",
    "#         loss.backward()\n",
    "#         optimizer.step()\n",
    "#         optimizer.zero_grad()\n",
    "#         loop.set_description(f'Epoch {epoch+1}/{num_epochs}')\n",
    "#         loop.set_postfix(loss=loss.item())\n",
    "\n",
    "#         if (i + 1) % print_every_n_batches == 0:\n",
    "#             print(f\"Epoch [{epoch+1}/{num_epochs}], Step [{i+1}/{len(dataloader)}], Loss: {loss.item():.4f}\")\n",
    "\n",
    "# for epoch in range(num_epochs):\n",
    "#     loop = tqdm(dataloader, leave=True)\n",
    "#     for i, batch in enumerate(loop):\n",
    "#         batch = {k: v.to(device) for k, v in batch.items()}  # Move the entire batch to the device\n",
    "#         labels = batch['input_ids'].clone()  # Clone input_ids to use as labels\n",
    "#         outputs = model(input_ids=batch['input_ids'], attention_mask=batch['attention_mask'], labels=labels)\n",
    "#         loss = outputs.loss\n",
    "#         loss.backward()\n",
    "#         optimizer.step()\n",
    "#         optimizer.zero_grad()\n",
    "#         loop.set_description(f'Epoch {epoch+1}/{num_epochs}')\n",
    "#         loop.set_postfix(loss=loss.item())\n",
    "\n",
    "#         if (i + 1) % print_every_n_batches == 0:\n",
    "#             print(f\"Epoch [{epoch+1}/{num_epochs}], Step [{i+1}/{len(dataloader)}], Loss: {loss.item():.4f}\")\n",
    "\n",
    "\n",
    "# for epoch in range(num_epochs):\n",
    "#     loop = tqdm(dataloader, leave=True)\n",
    "#     total_loss = 0.0\n",
    "#     num_batches = len(dataloader)\n",
    "    \n",
    "#     for i, batch in enumerate(loop):\n",
    "#         batch = {k: v.to(device) for k, v in batch.items()}  # Move the entire batch to the device\n",
    "#         labels = batch['input_ids'].clone()  # Clone input_ids to use as labels\n",
    "#         outputs = model(input_ids=batch['input_ids'], attention_mask=batch['attention_mask'], labels=labels)\n",
    "#         loss = outputs.loss\n",
    "        \n",
    "#         total_loss += loss.item()\n",
    "#         loss.backward()\n",
    "#         optimizer.step()\n",
    "#         optimizer.zero_grad()\n",
    "#         loop.set_description(f'Epoch {epoch+1}/{num_epochs}')\n",
    "#         loop.set_postfix(loss=total_loss / (i + 1))  # Compute and display the average loss\n",
    "        \n",
    "#         if (i + 1) % print_every_n_batches == 0:\n",
    "#             print(f\"Epoch [{epoch+1}/{num_epochs}], Step [{i+1}/{num_batches}], Loss: {total_loss / (i + 1):.4f}\")\n"
   ]
  },
  {
   "cell_type": "code",
   "execution_count": 4,
   "metadata": {},
   "outputs": [
    {
     "name": "stdout",
     "output_type": "stream",
     "text": [
      "Test Sentence 1:\n",
      "Input Sentence: In the PHYHIP, which is a type of gene/protein, there is a noted ppi of the gene/protein KIF15.\n",
      "Predicted Sentence: in the phyhip, which is a type of gene / protein, there is a noted ppi of the gene / protein kif15.\n",
      "\n",
      "Test Sentence 2:\n",
      "Input Sentence: In the GPANK1, which is a type of gene/protein, there is a noted ppi of the gene/protein PNMA1.\n",
      "Predicted Sentence: in the gpank1, which is a type of gene / protein, there is a noted ppi of the gene / protein pnma1.\n",
      "\n",
      "Test Sentence 3:\n",
      "Input Sentence: In the ZRSR2, which is a type of gene/protein, there is a noted ppi of the gene/protein TTC33.\n",
      "Predicted Sentence: in the zrsr2, which is a type of gene / protein, there is a noted ppi of the gene / protein ttc33.\n",
      "\n",
      "Test Sentence 4:\n",
      "Input Sentence: In the NRF1, which is a type of gene/protein, there is a noted ppi of the gene/protein MAN1B1.\n",
      "Predicted Sentence: in the nrf1, which is a type of gene / protein, there is a noted ppi of the gene / protein man1b1.\n",
      "\n",
      "Test Sentence 5:\n",
      "Input Sentence: In the PI4KA, which is a type of gene/protein, there is a noted ppi of the gene/protein RGS20.\n",
      "Predicted Sentence: in the pi4ka, which is a type of gene / protein, there is a noted ppi of the gene / protein rgs20.\n",
      "\n",
      "Test Sentence 6:\n",
      "Input Sentence: In the SLC15A1, which is a type of gene/protein, there is a noted ppi of the gene/protein RTL8C.\n",
      "Predicted Sentence: in the slc15a1, which is a type of gene / protein, there is a noted ppi of the gene / protein rtl8c.\n",
      "\n",
      "Test Sentence 7:\n",
      "Input Sentence: In the EIF3I, which is a type of gene/protein, there is a noted ppi of the gene/protein PAXIP1.\n",
      "Predicted Sentence: in the eif3i, which is a type of gene / protein, there is a noted ppi of the gene / protein paxip1.\n",
      "\n",
      "Test Sentence 8:\n",
      "Input Sentence: In the FAXDC2, which is a type of gene/protein, there is a noted ppi of the gene/protein SLC10A6.\n",
      "Predicted Sentence: in the faxdc2, which is a type of gene / protein, there is a noted ppi of the gene / protein slc10a6.\n",
      "\n",
      "Test Sentence 9:\n",
      "Input Sentence: In the MT1A, which is a type of gene/protein, there is a noted ppi of the gene/protein TP53.\n",
      "Predicted Sentence: in the mt1a, which is a type of gene / protein, there is a noted ppi of the gene / protein tp53.\n",
      "\n",
      "Test Sentence 10:\n",
      "Input Sentence: In the SORT1, which is a type of gene/protein, there is a noted ppi of the gene/protein PALMD.\n",
      "Predicted Sentence: in the sort1, which is a type of gene / protein, there is a noted ppi of the gene / protein palmd.\n",
      "\n"
     ]
    }
   ],
   "source": [
    "import torch\n",
    "from torch.utils.data import Dataset, DataLoader\n",
    "from transformers import AutoModelForMaskedLM, AutoTokenizer\n",
    "from tqdm.auto import tqdm\n",
    "import pandas as pd\n",
    "\n",
    "# Define a Dataset class for testing on the same sentences data\n",
    "class TestCSVDataset(Dataset):\n",
    "    def __init__(self, sentences, tokenizer, max_length=512):\n",
    "        self.tokenizer = tokenizer\n",
    "        self.sentences = sentences\n",
    "        self.max_length = max_length\n",
    "\n",
    "    def __len__(self):\n",
    "        return len(self.sentences)\n",
    "\n",
    "    def __getitem__(self, idx):\n",
    "        sentence = self.sentences[idx]\n",
    "        inputs = self.tokenizer(sentence, max_length=self.max_length, padding='max_length', truncation=True, return_tensors=\"pt\")\n",
    "        return {'input_ids': inputs['input_ids'][0], 'attention_mask': inputs['attention_mask'][0]}\n",
    "\n",
    "# Load the trained model and tokenizer\n",
    "model_name = \"bert-base-uncased\"\n",
    "tokenizer = AutoTokenizer.from_pretrained(model_name)\n",
    "\n",
    "# Set the device for testing\n",
    "device = torch.device(\"cuda\" if torch.cuda.is_available() else \"cpu\")\n",
    "\n",
    "# Load the trained model and move it to the device\n",
    "model = AutoModelForMaskedLM.from_pretrained(\"/home/ubuntu/Project_Files/Finetune/Data/trained_model.pth\").to(device)\n",
    "\n",
    "# # Prepare the test sentences\n",
    "# test_sentences = [\n",
    "#     \"This is a test sentence.\",\n",
    "#     \"Another example sentence.\",\n",
    "#     \"BERT is a powerful model.\",\n",
    "# ]\n",
    "\n",
    "csv_file = \"/home/ubuntu/Project_Files/Finetune/Data/sentences.csv\"\n",
    "df = pd.read_csv(csv_file)\n",
    "test_sentences = df[\"Sentence\"][:10].tolist()\n",
    "\n",
    "\n",
    "# Create a DataLoader for testing\n",
    "test_dataset = TestCSVDataset(test_sentences, tokenizer)\n",
    "test_dataloader = DataLoader(test_dataset, batch_size=1)  # Batch size 1 for one sentence at a time\n",
    "\n",
    "# Set the model to evaluation mode\n",
    "model.eval()\n",
    "\n",
    "# Test the model on the test sentences\n",
    "for i, batch in enumerate(test_dataloader):\n",
    "    input_ids = batch['input_ids'].to(device)\n",
    "    attention_mask = batch['attention_mask'].to(device)\n",
    "\n",
    "    # Generate predictions\n",
    "    with torch.no_grad():\n",
    "        outputs = model(input_ids=input_ids, attention_mask=attention_mask)\n",
    "    \n",
    "    # Get predicted tokens\n",
    "    predicted_token_ids = torch.argmax(outputs.logits, dim=2)\n",
    "    \n",
    "    # Convert token IDs to tokens\n",
    "    predicted_tokens = tokenizer.decode(predicted_token_ids[0].tolist(), skip_special_tokens=True)\n",
    "    \n",
    "    print(f\"Test Sentence {i+1}:\")\n",
    "    print(\"Input Sentence:\", test_sentences[i])\n",
    "    print(\"Predicted Sentence:\", predicted_tokens)\n",
    "    print()\n"
   ]
  },
  {
   "cell_type": "code",
   "execution_count": 1,
   "metadata": {},
   "outputs": [],
   "source": [
    "import json\n",
    "\n",
    "# Path to your input file\n",
    "input_file_path = '/home/ubuntu/Project_Files/Finetune/Data/sentences.csv'\n",
    "\n",
    "# Path to your output JSON file\n",
    "output_file_path = '/home/ubuntu/Project_Files/Finetune/Data/sentences_new.json'\n",
    "\n",
    "# List to hold all sentences as dictionaries\n",
    "sentences = []\n",
    "\n",
    "# Open and read the input file\n",
    "with open(input_file_path, 'r', encoding='utf-8') as file:\n",
    "    for line in file:\n",
    "        # Remove leading and trailing whitespace and the surrounding quotes\n",
    "        clean_line = line.strip().strip('\"')\n",
    "        sentence_dict = {\"text\": clean_line}\n",
    "        sentences.append(sentence_dict)\n",
    "\n",
    "# Write the list of dictionaries to a JSON file\n",
    "with open(output_file_path, 'w', encoding='utf-8') as json_file:\n",
    "    json.dump(sentences, json_file, indent=4, ensure_ascii=False)\n"
   ]
  },
  {
   "cell_type": "code",
   "execution_count": 14,
   "metadata": {},
   "outputs": [
    {
     "name": "stdout",
     "output_type": "stream",
     "text": [
      "JSON file is valid.\n"
     ]
    }
   ],
   "source": [
    "# Check if JSON is written correctly\n",
    "import json\n",
    "\n",
    "def check_json_file(file_path):\n",
    "    try:\n",
    "        with open(file_path, 'r') as file:\n",
    "            json.load(file)\n",
    "        print(\"JSON file is valid.\")\n",
    "    except json.JSONDecodeError as e:\n",
    "        print(f\"Error in JSON file: {e}\")\n",
    "        print(\"JSON file is not valid.\")\n",
    "\n",
    "# Example usage:\n",
    "json_file_path = \"/home/ubuntu/Project_Files/Finetune/Data/json_files/combined_sentences.json\"  # Replace with the path to your JSON file\n",
    "check_json_file(json_file_path)"
   ]
  },
  {
   "cell_type": "code",
   "execution_count": 8,
   "metadata": {},
   "outputs": [],
   "source": [
    "def fix_json_file(file_path):\n",
    "    with open(file_path, 'r') as file:\n",
    "        json_content = file.read()\n",
    "\n",
    "    # Find the position of the unterminated string\n",
    "    error_pos = json_content.find(\"Unterminated string\")\n",
    "    if error_pos == -1:\n",
    "        print(\"No 'Unterminated string' error found in the JSON file.\")\n",
    "        return\n",
    "\n",
    "    line_start = json_content.rfind(\"\\n\", 0, error_pos) + 1\n",
    "    column = error_pos - line_start\n",
    "\n",
    "    # Extract the problematic line\n",
    "    error_line = json_content.splitlines()[line_start:line_start + 1][0]\n",
    "\n",
    "    # Add a closing quotation mark to the string\n",
    "    corrected_line = error_line[:column] + '\"' + error_line[column:]\n",
    "\n",
    "    # Replace the problematic line in the JSON content\n",
    "    corrected_json_content = json_content[:line_start] + corrected_line + json_content[line_start + len(error_line):]\n",
    "\n",
    "    # Write the corrected content back to the file\n",
    "    with open(file_path, 'w') as file:\n",
    "        file.write(corrected_json_content)\n",
    "\n",
    "    print(\"JSON file has been corrected.\")\n"
   ]
  },
  {
   "cell_type": "code",
   "execution_count": 12,
   "metadata": {},
   "outputs": [
    {
     "name": "stderr",
     "output_type": "stream",
     "text": [
      "Processing CSV:   2%|▏         | 195284/8196863 [00:00<00:26, 301041.29row/s]"
     ]
    },
    {
     "name": "stdout",
     "output_type": "stream",
     "text": [
      "JSON file '/home/ubuntu/Project_Files/Finetune/Data/json_files/sentences_1.json' is valid.\n"
     ]
    },
    {
     "name": "stderr",
     "output_type": "stream",
     "text": [
      "Processing CSV:   3%|▎         | 247421/8196863 [00:01<00:39, 203517.12row/s]"
     ]
    },
    {
     "name": "stdout",
     "output_type": "stream",
     "text": [
      "JSON file '/home/ubuntu/Project_Files/Finetune/Data/json_files/sentences_2.json' is valid.\n"
     ]
    },
    {
     "name": "stderr",
     "output_type": "stream",
     "text": [
      "Processing CSV:   4%|▎         | 300001/8196863 [00:01<00:48, 164039.42row/s]"
     ]
    },
    {
     "name": "stdout",
     "output_type": "stream",
     "text": [
      "JSON file '/home/ubuntu/Project_Files/Finetune/Data/json_files/sentences_3.json' is valid.\n"
     ]
    },
    {
     "name": "stderr",
     "output_type": "stream",
     "text": [
      "Processing CSV:   5%|▍         | 400001/8196863 [00:02<00:44, 175440.65row/s]"
     ]
    },
    {
     "name": "stdout",
     "output_type": "stream",
     "text": [
      "JSON file '/home/ubuntu/Project_Files/Finetune/Data/json_files/sentences_4.json' is valid.\n"
     ]
    },
    {
     "name": "stderr",
     "output_type": "stream",
     "text": [
      "Processing CSV:   6%|▌         | 500001/8196863 [00:02<00:40, 188870.92row/s]"
     ]
    },
    {
     "name": "stdout",
     "output_type": "stream",
     "text": [
      "JSON file '/home/ubuntu/Project_Files/Finetune/Data/json_files/sentences_5.json' is valid.\n"
     ]
    },
    {
     "name": "stderr",
     "output_type": "stream",
     "text": [
      "Processing CSV:   7%|▋         | 600001/8196863 [00:02<00:38, 197024.70row/s]"
     ]
    },
    {
     "name": "stdout",
     "output_type": "stream",
     "text": [
      "JSON file '/home/ubuntu/Project_Files/Finetune/Data/json_files/sentences_6.json' is valid.\n"
     ]
    },
    {
     "name": "stderr",
     "output_type": "stream",
     "text": [
      "Processing CSV:   9%|▊         | 700001/8196863 [00:03<00:37, 201722.78row/s]"
     ]
    },
    {
     "name": "stdout",
     "output_type": "stream",
     "text": [
      "JSON file '/home/ubuntu/Project_Files/Finetune/Data/json_files/sentences_7.json' is valid.\n"
     ]
    },
    {
     "name": "stderr",
     "output_type": "stream",
     "text": [
      "Processing CSV:  10%|▉         | 800001/8196863 [00:03<00:36, 205208.41row/s]"
     ]
    },
    {
     "name": "stdout",
     "output_type": "stream",
     "text": [
      "JSON file '/home/ubuntu/Project_Files/Finetune/Data/json_files/sentences_8.json' is valid.\n"
     ]
    },
    {
     "name": "stderr",
     "output_type": "stream",
     "text": [
      "Processing CSV:  11%|█         | 900001/8196863 [00:04<00:35, 206952.06row/s]"
     ]
    },
    {
     "name": "stdout",
     "output_type": "stream",
     "text": [
      "JSON file '/home/ubuntu/Project_Files/Finetune/Data/json_files/sentences_9.json' is valid.\n"
     ]
    },
    {
     "name": "stderr",
     "output_type": "stream",
     "text": [
      "Processing CSV:  12%|█▏        | 1000001/8196863 [00:04<00:34, 208278.92row/s]"
     ]
    },
    {
     "name": "stdout",
     "output_type": "stream",
     "text": [
      "JSON file '/home/ubuntu/Project_Files/Finetune/Data/json_files/sentences_10.json' is valid.\n"
     ]
    },
    {
     "name": "stderr",
     "output_type": "stream",
     "text": [
      "Processing CSV:  13%|█▎        | 1100001/8196863 [00:05<00:33, 209775.50row/s]"
     ]
    },
    {
     "name": "stdout",
     "output_type": "stream",
     "text": [
      "JSON file '/home/ubuntu/Project_Files/Finetune/Data/json_files/sentences_11.json' is valid.\n"
     ]
    },
    {
     "name": "stderr",
     "output_type": "stream",
     "text": [
      "Processing CSV:  15%|█▍        | 1200001/8196863 [00:05<00:33, 210481.63row/s]"
     ]
    },
    {
     "name": "stdout",
     "output_type": "stream",
     "text": [
      "JSON file '/home/ubuntu/Project_Files/Finetune/Data/json_files/sentences_12.json' is valid.\n"
     ]
    },
    {
     "name": "stderr",
     "output_type": "stream",
     "text": [
      "Processing CSV:  16%|█▌        | 1300001/8196863 [00:06<00:32, 210881.47row/s]"
     ]
    },
    {
     "name": "stdout",
     "output_type": "stream",
     "text": [
      "JSON file '/home/ubuntu/Project_Files/Finetune/Data/json_files/sentences_13.json' is valid.\n"
     ]
    },
    {
     "name": "stderr",
     "output_type": "stream",
     "text": [
      "Processing CSV:  17%|█▋        | 1400001/8196863 [00:06<00:32, 212205.76row/s]"
     ]
    },
    {
     "name": "stdout",
     "output_type": "stream",
     "text": [
      "JSON file '/home/ubuntu/Project_Files/Finetune/Data/json_files/sentences_14.json' is valid.\n"
     ]
    },
    {
     "name": "stderr",
     "output_type": "stream",
     "text": [
      "Processing CSV:  18%|█▊        | 1500001/8196863 [00:07<00:31, 213167.12row/s]"
     ]
    },
    {
     "name": "stdout",
     "output_type": "stream",
     "text": [
      "JSON file '/home/ubuntu/Project_Files/Finetune/Data/json_files/sentences_15.json' is valid.\n"
     ]
    },
    {
     "name": "stderr",
     "output_type": "stream",
     "text": [
      "Processing CSV:  20%|█▉        | 1600001/8196863 [00:07<00:30, 214067.28row/s]"
     ]
    },
    {
     "name": "stdout",
     "output_type": "stream",
     "text": [
      "JSON file '/home/ubuntu/Project_Files/Finetune/Data/json_files/sentences_16.json' is valid.\n"
     ]
    },
    {
     "name": "stderr",
     "output_type": "stream",
     "text": [
      "Processing CSV:  21%|██        | 1700001/8196863 [00:08<00:30, 214620.33row/s]"
     ]
    },
    {
     "name": "stdout",
     "output_type": "stream",
     "text": [
      "JSON file '/home/ubuntu/Project_Files/Finetune/Data/json_files/sentences_17.json' is valid.\n"
     ]
    },
    {
     "name": "stderr",
     "output_type": "stream",
     "text": [
      "Processing CSV:  22%|██▏       | 1800001/8196863 [00:08<00:29, 215202.05row/s]"
     ]
    },
    {
     "name": "stdout",
     "output_type": "stream",
     "text": [
      "JSON file '/home/ubuntu/Project_Files/Finetune/Data/json_files/sentences_18.json' is valid.\n"
     ]
    },
    {
     "name": "stderr",
     "output_type": "stream",
     "text": [
      "Processing CSV:  23%|██▎       | 1900001/8196863 [00:09<00:29, 215519.29row/s]"
     ]
    },
    {
     "name": "stdout",
     "output_type": "stream",
     "text": [
      "JSON file '/home/ubuntu/Project_Files/Finetune/Data/json_files/sentences_19.json' is valid.\n"
     ]
    },
    {
     "name": "stderr",
     "output_type": "stream",
     "text": [
      "Processing CSV:  24%|██▍       | 2000001/8196863 [00:09<00:28, 215593.17row/s]"
     ]
    },
    {
     "name": "stdout",
     "output_type": "stream",
     "text": [
      "JSON file '/home/ubuntu/Project_Files/Finetune/Data/json_files/sentences_20.json' is valid.\n"
     ]
    },
    {
     "name": "stderr",
     "output_type": "stream",
     "text": [
      "Processing CSV:  26%|██▌       | 2100001/8196863 [00:09<00:28, 215973.19row/s]"
     ]
    },
    {
     "name": "stdout",
     "output_type": "stream",
     "text": [
      "JSON file '/home/ubuntu/Project_Files/Finetune/Data/json_files/sentences_21.json' is valid.\n"
     ]
    },
    {
     "name": "stderr",
     "output_type": "stream",
     "text": [
      "Processing CSV:  27%|██▋       | 2200001/8196863 [00:10<00:27, 216765.27row/s]"
     ]
    },
    {
     "name": "stdout",
     "output_type": "stream",
     "text": [
      "JSON file '/home/ubuntu/Project_Files/Finetune/Data/json_files/sentences_22.json' is valid.\n"
     ]
    },
    {
     "name": "stderr",
     "output_type": "stream",
     "text": [
      "Processing CSV:  28%|██▊       | 2300001/8196863 [00:10<00:27, 216298.94row/s]"
     ]
    },
    {
     "name": "stdout",
     "output_type": "stream",
     "text": [
      "JSON file '/home/ubuntu/Project_Files/Finetune/Data/json_files/sentences_23.json' is valid.\n"
     ]
    },
    {
     "name": "stderr",
     "output_type": "stream",
     "text": [
      "Processing CSV:  29%|██▉       | 2400001/8196863 [00:11<00:26, 216405.63row/s]"
     ]
    },
    {
     "name": "stdout",
     "output_type": "stream",
     "text": [
      "JSON file '/home/ubuntu/Project_Files/Finetune/Data/json_files/sentences_24.json' is valid.\n"
     ]
    },
    {
     "name": "stderr",
     "output_type": "stream",
     "text": [
      "Processing CSV:  30%|███       | 2500001/8196863 [00:11<00:26, 216111.30row/s]"
     ]
    },
    {
     "name": "stdout",
     "output_type": "stream",
     "text": [
      "JSON file '/home/ubuntu/Project_Files/Finetune/Data/json_files/sentences_25.json' is valid.\n"
     ]
    },
    {
     "name": "stderr",
     "output_type": "stream",
     "text": [
      "Processing CSV:  32%|███▏      | 2600001/8196863 [00:12<00:25, 216109.27row/s]"
     ]
    },
    {
     "name": "stdout",
     "output_type": "stream",
     "text": [
      "JSON file '/home/ubuntu/Project_Files/Finetune/Data/json_files/sentences_26.json' is valid.\n"
     ]
    },
    {
     "name": "stderr",
     "output_type": "stream",
     "text": [
      "Processing CSV:  33%|███▎      | 2700001/8196863 [00:12<00:25, 216853.30row/s]"
     ]
    },
    {
     "name": "stdout",
     "output_type": "stream",
     "text": [
      "JSON file '/home/ubuntu/Project_Files/Finetune/Data/json_files/sentences_27.json' is valid.\n"
     ]
    },
    {
     "name": "stderr",
     "output_type": "stream",
     "text": [
      "Processing CSV:  34%|███▍      | 2800001/8196863 [00:13<00:24, 216865.66row/s]"
     ]
    },
    {
     "name": "stdout",
     "output_type": "stream",
     "text": [
      "JSON file '/home/ubuntu/Project_Files/Finetune/Data/json_files/sentences_28.json' is valid.\n"
     ]
    },
    {
     "name": "stderr",
     "output_type": "stream",
     "text": [
      "Processing CSV:  35%|███▌      | 2900001/8196863 [00:13<00:24, 217864.87row/s]"
     ]
    },
    {
     "name": "stdout",
     "output_type": "stream",
     "text": [
      "JSON file '/home/ubuntu/Project_Files/Finetune/Data/json_files/sentences_29.json' is valid.\n"
     ]
    },
    {
     "name": "stderr",
     "output_type": "stream",
     "text": [
      "Processing CSV:  37%|███▋      | 3000001/8196863 [00:14<00:23, 218474.02row/s]"
     ]
    },
    {
     "name": "stdout",
     "output_type": "stream",
     "text": [
      "JSON file '/home/ubuntu/Project_Files/Finetune/Data/json_files/sentences_30.json' is valid.\n"
     ]
    },
    {
     "name": "stderr",
     "output_type": "stream",
     "text": [
      "Processing CSV:  38%|███▊      | 3100001/8196863 [00:14<00:23, 212841.25row/s]"
     ]
    },
    {
     "name": "stdout",
     "output_type": "stream",
     "text": [
      "JSON file '/home/ubuntu/Project_Files/Finetune/Data/json_files/sentences_31.json' is valid.\n"
     ]
    },
    {
     "name": "stderr",
     "output_type": "stream",
     "text": [
      "Processing CSV:  39%|███▉      | 3200001/8196863 [00:15<00:24, 204987.33row/s]"
     ]
    },
    {
     "name": "stdout",
     "output_type": "stream",
     "text": [
      "JSON file '/home/ubuntu/Project_Files/Finetune/Data/json_files/sentences_32.json' is valid.\n"
     ]
    },
    {
     "name": "stderr",
     "output_type": "stream",
     "text": [
      "Processing CSV:  40%|████      | 3300001/8196863 [00:15<00:24, 200528.32row/s]"
     ]
    },
    {
     "name": "stdout",
     "output_type": "stream",
     "text": [
      "JSON file '/home/ubuntu/Project_Files/Finetune/Data/json_files/sentences_33.json' is valid.\n"
     ]
    },
    {
     "name": "stderr",
     "output_type": "stream",
     "text": [
      "Processing CSV:  41%|████▏     | 3400001/8196863 [00:16<00:24, 194304.36row/s]"
     ]
    },
    {
     "name": "stdout",
     "output_type": "stream",
     "text": [
      "JSON file '/home/ubuntu/Project_Files/Finetune/Data/json_files/sentences_34.json' is valid.\n"
     ]
    },
    {
     "name": "stderr",
     "output_type": "stream",
     "text": [
      "Processing CSV:  43%|████▎     | 3500001/8196863 [00:16<00:24, 194983.25row/s]"
     ]
    },
    {
     "name": "stdout",
     "output_type": "stream",
     "text": [
      "JSON file '/home/ubuntu/Project_Files/Finetune/Data/json_files/sentences_35.json' is valid.\n"
     ]
    },
    {
     "name": "stderr",
     "output_type": "stream",
     "text": [
      "Processing CSV:  44%|████▍     | 3600001/8196863 [00:17<00:23, 192951.17row/s]"
     ]
    },
    {
     "name": "stdout",
     "output_type": "stream",
     "text": [
      "JSON file '/home/ubuntu/Project_Files/Finetune/Data/json_files/sentences_36.json' is valid.\n"
     ]
    },
    {
     "name": "stderr",
     "output_type": "stream",
     "text": [
      "Processing CSV:  45%|████▌     | 3700001/8196863 [00:17<00:23, 193140.17row/s]"
     ]
    },
    {
     "name": "stdout",
     "output_type": "stream",
     "text": [
      "JSON file '/home/ubuntu/Project_Files/Finetune/Data/json_files/sentences_37.json' is valid.\n"
     ]
    },
    {
     "name": "stderr",
     "output_type": "stream",
     "text": [
      "Processing CSV:  46%|████▋     | 3800001/8196863 [00:18<00:22, 191366.96row/s]"
     ]
    },
    {
     "name": "stdout",
     "output_type": "stream",
     "text": [
      "JSON file '/home/ubuntu/Project_Files/Finetune/Data/json_files/sentences_38.json' is valid.\n"
     ]
    },
    {
     "name": "stderr",
     "output_type": "stream",
     "text": [
      "Processing CSV:  48%|████▊     | 3900001/8196863 [00:18<00:23, 186788.22row/s]"
     ]
    },
    {
     "name": "stdout",
     "output_type": "stream",
     "text": [
      "JSON file '/home/ubuntu/Project_Files/Finetune/Data/json_files/sentences_39.json' is valid.\n"
     ]
    },
    {
     "name": "stderr",
     "output_type": "stream",
     "text": [
      "Processing CSV:  49%|████▉     | 4000001/8196863 [00:19<00:22, 189586.53row/s]"
     ]
    },
    {
     "name": "stdout",
     "output_type": "stream",
     "text": [
      "JSON file '/home/ubuntu/Project_Files/Finetune/Data/json_files/sentences_40.json' is valid.\n"
     ]
    },
    {
     "name": "stderr",
     "output_type": "stream",
     "text": [
      "Processing CSV:  50%|█████     | 4100001/8196863 [00:19<00:21, 191648.82row/s]"
     ]
    },
    {
     "name": "stdout",
     "output_type": "stream",
     "text": [
      "JSON file '/home/ubuntu/Project_Files/Finetune/Data/json_files/sentences_41.json' is valid.\n"
     ]
    },
    {
     "name": "stderr",
     "output_type": "stream",
     "text": [
      "Processing CSV:  51%|█████     | 4200001/8196863 [00:20<00:20, 194392.77row/s]"
     ]
    },
    {
     "name": "stdout",
     "output_type": "stream",
     "text": [
      "JSON file '/home/ubuntu/Project_Files/Finetune/Data/json_files/sentences_42.json' is valid.\n"
     ]
    },
    {
     "name": "stderr",
     "output_type": "stream",
     "text": [
      "Processing CSV:  52%|█████▏    | 4300001/8196863 [00:20<00:19, 195138.88row/s]"
     ]
    },
    {
     "name": "stdout",
     "output_type": "stream",
     "text": [
      "JSON file '/home/ubuntu/Project_Files/Finetune/Data/json_files/sentences_43.json' is valid.\n"
     ]
    },
    {
     "name": "stderr",
     "output_type": "stream",
     "text": [
      "Processing CSV:  54%|█████▎    | 4400001/8196863 [00:21<00:19, 196593.04row/s]"
     ]
    },
    {
     "name": "stdout",
     "output_type": "stream",
     "text": [
      "JSON file '/home/ubuntu/Project_Files/Finetune/Data/json_files/sentences_44.json' is valid.\n"
     ]
    },
    {
     "name": "stderr",
     "output_type": "stream",
     "text": [
      "Processing CSV:  55%|█████▍    | 4500001/8196863 [00:21<00:18, 197157.56row/s]"
     ]
    },
    {
     "name": "stdout",
     "output_type": "stream",
     "text": [
      "JSON file '/home/ubuntu/Project_Files/Finetune/Data/json_files/sentences_45.json' is valid.\n"
     ]
    },
    {
     "name": "stderr",
     "output_type": "stream",
     "text": [
      "Processing CSV:  56%|█████▌    | 4600001/8196863 [00:22<00:18, 198391.69row/s]"
     ]
    },
    {
     "name": "stdout",
     "output_type": "stream",
     "text": [
      "JSON file '/home/ubuntu/Project_Files/Finetune/Data/json_files/sentences_46.json' is valid.\n"
     ]
    },
    {
     "name": "stderr",
     "output_type": "stream",
     "text": [
      "Processing CSV:  57%|█████▋    | 4700001/8196863 [00:22<00:17, 197825.80row/s]"
     ]
    },
    {
     "name": "stdout",
     "output_type": "stream",
     "text": [
      "JSON file '/home/ubuntu/Project_Files/Finetune/Data/json_files/sentences_47.json' is valid.\n"
     ]
    },
    {
     "name": "stderr",
     "output_type": "stream",
     "text": [
      "Processing CSV:  59%|█████▊    | 4800001/8196863 [00:23<00:17, 196897.27row/s]"
     ]
    },
    {
     "name": "stdout",
     "output_type": "stream",
     "text": [
      "JSON file '/home/ubuntu/Project_Files/Finetune/Data/json_files/sentences_48.json' is valid.\n"
     ]
    },
    {
     "name": "stderr",
     "output_type": "stream",
     "text": [
      "Processing CSV:  60%|█████▉    | 4900001/8196863 [00:23<00:16, 198251.74row/s]"
     ]
    },
    {
     "name": "stdout",
     "output_type": "stream",
     "text": [
      "JSON file '/home/ubuntu/Project_Files/Finetune/Data/json_files/sentences_49.json' is valid.\n"
     ]
    },
    {
     "name": "stderr",
     "output_type": "stream",
     "text": [
      "Processing CSV:  61%|██████    | 5000001/8196863 [00:24<00:16, 197906.74row/s]"
     ]
    },
    {
     "name": "stdout",
     "output_type": "stream",
     "text": [
      "JSON file '/home/ubuntu/Project_Files/Finetune/Data/json_files/sentences_50.json' is valid.\n"
     ]
    },
    {
     "name": "stderr",
     "output_type": "stream",
     "text": [
      "Processing CSV:  62%|██████▏   | 5100001/8196863 [00:24<00:15, 198093.90row/s]"
     ]
    },
    {
     "name": "stdout",
     "output_type": "stream",
     "text": [
      "JSON file '/home/ubuntu/Project_Files/Finetune/Data/json_files/sentences_51.json' is valid.\n"
     ]
    },
    {
     "name": "stderr",
     "output_type": "stream",
     "text": [
      "Processing CSV:  63%|██████▎   | 5200001/8196863 [00:25<00:15, 198365.10row/s]"
     ]
    },
    {
     "name": "stdout",
     "output_type": "stream",
     "text": [
      "JSON file '/home/ubuntu/Project_Files/Finetune/Data/json_files/sentences_52.json' is valid.\n"
     ]
    },
    {
     "name": "stderr",
     "output_type": "stream",
     "text": [
      "Processing CSV:  65%|██████▍   | 5300001/8196863 [00:25<00:14, 198158.61row/s]"
     ]
    },
    {
     "name": "stdout",
     "output_type": "stream",
     "text": [
      "JSON file '/home/ubuntu/Project_Files/Finetune/Data/json_files/sentences_53.json' is valid.\n"
     ]
    },
    {
     "name": "stderr",
     "output_type": "stream",
     "text": [
      "Processing CSV:  66%|██████▌   | 5400001/8196863 [00:26<00:14, 199125.83row/s]"
     ]
    },
    {
     "name": "stdout",
     "output_type": "stream",
     "text": [
      "JSON file '/home/ubuntu/Project_Files/Finetune/Data/json_files/sentences_54.json' is valid.\n"
     ]
    },
    {
     "name": "stderr",
     "output_type": "stream",
     "text": [
      "Processing CSV:  67%|██████▋   | 5500001/8196863 [00:26<00:13, 200213.35row/s]"
     ]
    },
    {
     "name": "stdout",
     "output_type": "stream",
     "text": [
      "JSON file '/home/ubuntu/Project_Files/Finetune/Data/json_files/sentences_55.json' is valid.\n"
     ]
    },
    {
     "name": "stderr",
     "output_type": "stream",
     "text": [
      "Processing CSV:  68%|██████▊   | 5600001/8196863 [00:27<00:12, 202256.29row/s]"
     ]
    },
    {
     "name": "stdout",
     "output_type": "stream",
     "text": [
      "JSON file '/home/ubuntu/Project_Files/Finetune/Data/json_files/sentences_56.json' is valid.\n"
     ]
    },
    {
     "name": "stderr",
     "output_type": "stream",
     "text": [
      "Processing CSV:  70%|██████▉   | 5700001/8196863 [00:27<00:12, 203875.05row/s]"
     ]
    },
    {
     "name": "stdout",
     "output_type": "stream",
     "text": [
      "JSON file '/home/ubuntu/Project_Files/Finetune/Data/json_files/sentences_57.json' is valid.\n"
     ]
    },
    {
     "name": "stderr",
     "output_type": "stream",
     "text": [
      "Processing CSV:  71%|███████   | 5800001/8196863 [00:28<00:11, 203082.68row/s]"
     ]
    },
    {
     "name": "stdout",
     "output_type": "stream",
     "text": [
      "JSON file '/home/ubuntu/Project_Files/Finetune/Data/json_files/sentences_58.json' is valid.\n"
     ]
    },
    {
     "name": "stderr",
     "output_type": "stream",
     "text": [
      "Processing CSV:  72%|███████▏  | 5900001/8196863 [00:28<00:11, 201753.90row/s]"
     ]
    },
    {
     "name": "stdout",
     "output_type": "stream",
     "text": [
      "JSON file '/home/ubuntu/Project_Files/Finetune/Data/json_files/sentences_59.json' is valid.\n"
     ]
    },
    {
     "name": "stderr",
     "output_type": "stream",
     "text": [
      "Processing CSV:  73%|███████▎  | 6000001/8196863 [00:29<00:11, 198629.02row/s]"
     ]
    },
    {
     "name": "stdout",
     "output_type": "stream",
     "text": [
      "JSON file '/home/ubuntu/Project_Files/Finetune/Data/json_files/sentences_60.json' is valid.\n"
     ]
    },
    {
     "name": "stderr",
     "output_type": "stream",
     "text": [
      "Processing CSV:  74%|███████▍  | 6100001/8196863 [00:29<00:10, 196971.15row/s]"
     ]
    },
    {
     "name": "stdout",
     "output_type": "stream",
     "text": [
      "JSON file '/home/ubuntu/Project_Files/Finetune/Data/json_files/sentences_61.json' is valid.\n"
     ]
    },
    {
     "name": "stderr",
     "output_type": "stream",
     "text": [
      "Processing CSV:  76%|███████▌  | 6200001/8196863 [00:30<00:10, 196097.83row/s]"
     ]
    },
    {
     "name": "stdout",
     "output_type": "stream",
     "text": [
      "JSON file '/home/ubuntu/Project_Files/Finetune/Data/json_files/sentences_62.json' is valid.\n"
     ]
    },
    {
     "name": "stderr",
     "output_type": "stream",
     "text": [
      "Processing CSV:  77%|███████▋  | 6300001/8196863 [00:30<00:09, 192845.45row/s]"
     ]
    },
    {
     "name": "stdout",
     "output_type": "stream",
     "text": [
      "JSON file '/home/ubuntu/Project_Files/Finetune/Data/json_files/sentences_63.json' is valid.\n"
     ]
    },
    {
     "name": "stderr",
     "output_type": "stream",
     "text": [
      "Processing CSV:  78%|███████▊  | 6400001/8196863 [00:31<00:09, 193838.00row/s]"
     ]
    },
    {
     "name": "stdout",
     "output_type": "stream",
     "text": [
      "JSON file '/home/ubuntu/Project_Files/Finetune/Data/json_files/sentences_64.json' is valid.\n"
     ]
    },
    {
     "name": "stderr",
     "output_type": "stream",
     "text": [
      "Processing CSV:  79%|███████▉  | 6500001/8196863 [00:31<00:08, 193934.59row/s]"
     ]
    },
    {
     "name": "stdout",
     "output_type": "stream",
     "text": [
      "JSON file '/home/ubuntu/Project_Files/Finetune/Data/json_files/sentences_65.json' is valid.\n"
     ]
    },
    {
     "name": "stderr",
     "output_type": "stream",
     "text": [
      "Processing CSV:  81%|████████  | 6600001/8196863 [00:32<00:08, 193234.48row/s]"
     ]
    },
    {
     "name": "stdout",
     "output_type": "stream",
     "text": [
      "JSON file '/home/ubuntu/Project_Files/Finetune/Data/json_files/sentences_66.json' is valid.\n"
     ]
    },
    {
     "name": "stderr",
     "output_type": "stream",
     "text": [
      "Processing CSV:  82%|████████▏ | 6700001/8196863 [00:33<00:07, 190617.74row/s]"
     ]
    },
    {
     "name": "stdout",
     "output_type": "stream",
     "text": [
      "JSON file '/home/ubuntu/Project_Files/Finetune/Data/json_files/sentences_67.json' is valid.\n"
     ]
    },
    {
     "name": "stderr",
     "output_type": "stream",
     "text": [
      "Processing CSV:  83%|████████▎ | 6800001/8196863 [00:33<00:07, 193593.24row/s]"
     ]
    },
    {
     "name": "stdout",
     "output_type": "stream",
     "text": [
      "JSON file '/home/ubuntu/Project_Files/Finetune/Data/json_files/sentences_68.json' is valid.\n"
     ]
    },
    {
     "name": "stderr",
     "output_type": "stream",
     "text": [
      "Processing CSV:  84%|████████▍ | 6900001/8196863 [00:34<00:06, 196809.04row/s]"
     ]
    },
    {
     "name": "stdout",
     "output_type": "stream",
     "text": [
      "JSON file '/home/ubuntu/Project_Files/Finetune/Data/json_files/sentences_69.json' is valid.\n"
     ]
    },
    {
     "name": "stderr",
     "output_type": "stream",
     "text": [
      "Processing CSV:  85%|████████▌ | 7000001/8196863 [00:34<00:06, 197919.75row/s]"
     ]
    },
    {
     "name": "stdout",
     "output_type": "stream",
     "text": [
      "JSON file '/home/ubuntu/Project_Files/Finetune/Data/json_files/sentences_70.json' is valid.\n"
     ]
    },
    {
     "name": "stderr",
     "output_type": "stream",
     "text": [
      "Processing CSV:  87%|████████▋ | 7100001/8196863 [00:35<00:05, 198791.24row/s]"
     ]
    },
    {
     "name": "stdout",
     "output_type": "stream",
     "text": [
      "JSON file '/home/ubuntu/Project_Files/Finetune/Data/json_files/sentences_71.json' is valid.\n"
     ]
    },
    {
     "name": "stderr",
     "output_type": "stream",
     "text": [
      "Processing CSV:  88%|████████▊ | 7200001/8196863 [00:35<00:04, 199385.94row/s]"
     ]
    },
    {
     "name": "stdout",
     "output_type": "stream",
     "text": [
      "JSON file '/home/ubuntu/Project_Files/Finetune/Data/json_files/sentences_72.json' is valid.\n"
     ]
    },
    {
     "name": "stderr",
     "output_type": "stream",
     "text": [
      "Processing CSV:  89%|████████▉ | 7300001/8196863 [00:36<00:04, 199625.84row/s]"
     ]
    },
    {
     "name": "stdout",
     "output_type": "stream",
     "text": [
      "JSON file '/home/ubuntu/Project_Files/Finetune/Data/json_files/sentences_73.json' is valid.\n"
     ]
    },
    {
     "name": "stderr",
     "output_type": "stream",
     "text": [
      "Processing CSV:  90%|█████████ | 7400001/8196863 [00:36<00:03, 201195.47row/s]"
     ]
    },
    {
     "name": "stdout",
     "output_type": "stream",
     "text": [
      "JSON file '/home/ubuntu/Project_Files/Finetune/Data/json_files/sentences_74.json' is valid.\n"
     ]
    },
    {
     "name": "stderr",
     "output_type": "stream",
     "text": [
      "Processing CSV:  91%|█████████▏| 7500001/8196863 [00:37<00:03, 201173.64row/s]"
     ]
    },
    {
     "name": "stdout",
     "output_type": "stream",
     "text": [
      "JSON file '/home/ubuntu/Project_Files/Finetune/Data/json_files/sentences_75.json' is valid.\n"
     ]
    },
    {
     "name": "stderr",
     "output_type": "stream",
     "text": [
      "Processing CSV:  93%|█████████▎| 7600001/8196863 [00:37<00:02, 201422.99row/s]"
     ]
    },
    {
     "name": "stdout",
     "output_type": "stream",
     "text": [
      "JSON file '/home/ubuntu/Project_Files/Finetune/Data/json_files/sentences_76.json' is valid.\n"
     ]
    },
    {
     "name": "stderr",
     "output_type": "stream",
     "text": [
      "Processing CSV:  94%|█████████▍| 7700001/8196863 [00:37<00:02, 201394.77row/s]"
     ]
    },
    {
     "name": "stdout",
     "output_type": "stream",
     "text": [
      "JSON file '/home/ubuntu/Project_Files/Finetune/Data/json_files/sentences_77.json' is valid.\n"
     ]
    },
    {
     "name": "stderr",
     "output_type": "stream",
     "text": [
      "Processing CSV:  95%|█████████▌| 7800001/8196863 [00:38<00:01, 201350.16row/s]"
     ]
    },
    {
     "name": "stdout",
     "output_type": "stream",
     "text": [
      "JSON file '/home/ubuntu/Project_Files/Finetune/Data/json_files/sentences_78.json' is valid.\n"
     ]
    },
    {
     "name": "stderr",
     "output_type": "stream",
     "text": [
      "Processing CSV:  96%|█████████▋| 7900001/8196863 [00:38<00:01, 201385.91row/s]"
     ]
    },
    {
     "name": "stdout",
     "output_type": "stream",
     "text": [
      "JSON file '/home/ubuntu/Project_Files/Finetune/Data/json_files/sentences_79.json' is valid.\n"
     ]
    },
    {
     "name": "stderr",
     "output_type": "stream",
     "text": [
      "Processing CSV:  98%|█████████▊| 8000001/8196863 [00:39<00:00, 202496.53row/s]"
     ]
    },
    {
     "name": "stdout",
     "output_type": "stream",
     "text": [
      "JSON file '/home/ubuntu/Project_Files/Finetune/Data/json_files/sentences_80.json' is valid.\n"
     ]
    },
    {
     "name": "stderr",
     "output_type": "stream",
     "text": [
      "Processing CSV: 100%|██████████| 8196863/8196863 [00:40<00:00, 204600.34row/s]"
     ]
    },
    {
     "name": "stdout",
     "output_type": "stream",
     "text": [
      "JSON file '/home/ubuntu/Project_Files/Finetune/Data/json_files/sentences_81.json' is valid.\n"
     ]
    },
    {
     "name": "stderr",
     "output_type": "stream",
     "text": [
      "\n"
     ]
    },
    {
     "name": "stdout",
     "output_type": "stream",
     "text": [
      "JSON file '/home/ubuntu/Project_Files/Finetune/Data/json_files/sentences_82.json' is valid.\n",
      "CSV to JSON conversion completed.\n"
     ]
    }
   ],
   "source": [
    "import json\n",
    "import os\n",
    "from tqdm import tqdm\n",
    "\n",
    "input_file_path = '/home/ubuntu/Project_Files/Finetune/Data/sentences.csv'\n",
    "output_folder = '/home/ubuntu/Project_Files/Finetune/Data/json_files'\n",
    "os.makedirs(output_folder, exist_ok=True)\n",
    "\n",
    "def save_json(sentences, file_path):\n",
    "    with open(file_path, 'w', encoding='utf-8') as json_file:\n",
    "        json.dump(sentences, json_file, indent=4, ensure_ascii=False)\n",
    "\n",
    "def process_csv_to_json(input_file_path, output_folder):\n",
    "    sentences = []\n",
    "    total_rows_processed = 0\n",
    "    json_file_index = 1\n",
    "    output_file_path = os.path.join(output_folder, f'sentences_{json_file_index}.json')\n",
    "\n",
    "    with open(input_file_path, 'r', encoding='utf-8') as file:\n",
    "        file_length = sum(1 for line in file)\n",
    "        file.seek(0)  # Reset file pointer to beginning\n",
    "        progress_bar = tqdm(total=file_length, desc='Processing CSV', unit='row')\n",
    "\n",
    "        for line in file:\n",
    "            clean_line = line.strip().strip('\"')\n",
    "            sentence_dict = {\"text\": clean_line}\n",
    "            sentences.append(sentence_dict)\n",
    "            total_rows_processed += 1\n",
    "            progress_bar.update(1)  # Update progress bar\n",
    "\n",
    "            # Save JSON file after every 100,000 rows\n",
    "            if total_rows_processed % 100000 == 0:\n",
    "                save_json(sentences, output_file_path)\n",
    "                # Verify if the saved JSON file is valid\n",
    "                with open(output_file_path, 'r', encoding='utf-8') as json_file:\n",
    "                    try:\n",
    "                        json.load(json_file)\n",
    "                        print(f\"JSON file '{output_file_path}' is valid.\")\n",
    "                    except json.JSONDecodeError as e:\n",
    "                        print(f\"Error in JSON file '{output_file_path}': {e}\")\n",
    "\n",
    "                # Prepare for the next JSON file\n",
    "                json_file_index += 1\n",
    "                output_file_path = os.path.join(output_folder, f'sentences_{json_file_index}.json')\n",
    "                sentences = []\n",
    "\n",
    "        progress_bar.close()\n",
    "\n",
    "    if sentences:\n",
    "        save_json(sentences, output_file_path)\n",
    "        with open(output_file_path, 'r', encoding='utf-8') as json_file:\n",
    "            try:\n",
    "                json.load(json_file)\n",
    "                print(f\"JSON file '{output_file_path}' is valid.\")\n",
    "            except json.JSONDecodeError as e:\n",
    "                print(f\"Error in JSON file '{output_file_path}': {e}\")\n",
    "\n",
    "    print(\"CSV to JSON conversion completed.\")\n",
    "\n",
    "process_csv_to_json(input_file_path, output_folder)"
   ]
  },
  {
   "cell_type": "code",
   "execution_count": 13,
   "metadata": {},
   "outputs": [
    {
     "name": "stdout",
     "output_type": "stream",
     "text": [
      "All JSON files in /home/ubuntu/Project_Files/Finetune/Data/json_files have been combined into /home/ubuntu/Project_Files/Finetune/Data/json_files/combined_sentences.json.\n"
     ]
    }
   ],
   "source": [
    "# COmbine all json files\n",
    "import os\n",
    "import json\n",
    "\n",
    "input_folder = '/home/ubuntu/Project_Files/Finetune/Data/json_files'\n",
    "output_combined_file = '/home/ubuntu/Project_Files/Finetune/Data/json_files/combined_sentences.json'\n",
    "\n",
    "def combine_json_files(input_folder, output_combined_file):\n",
    "    combined_sentences = []\n",
    "\n",
    "    # Iterate through all JSON files in the input folder\n",
    "    for file_name in os.listdir(input_folder):\n",
    "        if file_name.endswith('.json'):\n",
    "            file_path = os.path.join(input_folder, file_name)\n",
    "            with open(file_path, 'r', encoding='utf-8') as json_file:\n",
    "                sentences = json.load(json_file)\n",
    "                combined_sentences.extend(sentences)\n",
    "\n",
    "    # Write the combined sentences to a single JSON file\n",
    "    with open(output_combined_file, 'w', encoding='utf-8') as output_file:\n",
    "        json.dump(combined_sentences, output_file, indent=4, ensure_ascii=False)\n",
    "\n",
    "    print(f\"All JSON files in {input_folder} have been combined into {output_combined_file}.\")\n",
    "\n",
    "# Call the function to combine JSON files\n",
    "combine_json_files(input_folder, output_combined_file)\n"
   ]
  },
  {
   "cell_type": "code",
   "execution_count": 15,
   "metadata": {},
   "outputs": [
    {
     "name": "stdout",
     "output_type": "stream",
     "text": [
      "Number of entries: 8196863\n"
     ]
    }
   ],
   "source": [
    "import json\n",
    "\n",
    "def json_summary(file_path):\n",
    "    with open(file_path, 'r', encoding='utf-8') as json_file:\n",
    "        data = json.load(json_file)\n",
    "    \n",
    "    num_entries = len(data)\n",
    "    print(f\"Number of entries: {num_entries}\")\n",
    "\n",
    "json_file_path = '/home/ubuntu/Project_Files/Finetune/Data/json_files/combined_sentences.json'  # Replace with the path to your JSON file\n",
    "json_summary(json_file_path)\n"
   ]
  },
  {
   "cell_type": "code",
   "execution_count": 16,
   "metadata": {},
   "outputs": [
    {
     "name": "stdout",
     "output_type": "stream",
     "text": [
      "8196862\n"
     ]
    }
   ],
   "source": [
    "# read csv file and cont no of rows\n",
    "import pandas as pd\n",
    "df = pd.read_csv('/home/ubuntu/Project_Files/Finetune/Data/sentences.csv')\n",
    "print(df.shape[0])\n"
   ]
  },
  {
   "cell_type": "code",
   "execution_count": null,
   "metadata": {},
   "outputs": [],
   "source": []
  }
 ],
 "metadata": {
  "kernelspec": {
   "display_name": "env_llm",
   "language": "python",
   "name": "python3"
  },
  "language_info": {
   "codemirror_mode": {
    "name": "ipython",
    "version": 3
   },
   "file_extension": ".py",
   "mimetype": "text/x-python",
   "name": "python",
   "nbconvert_exporter": "python",
   "pygments_lexer": "ipython3",
   "version": "3.10.12"
  }
 },
 "nbformat": 4,
 "nbformat_minor": 2
}
